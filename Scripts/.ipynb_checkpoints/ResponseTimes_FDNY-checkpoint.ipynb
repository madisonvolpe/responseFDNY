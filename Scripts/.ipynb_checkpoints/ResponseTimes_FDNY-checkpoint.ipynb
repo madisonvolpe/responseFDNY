{
 "cells": [
  {
   "cell_type": "code",
   "execution_count": 4,
   "metadata": {},
   "outputs": [],
   "source": [
    "#import pandas as pd \n",
    "import pandas as pd \n",
    "import datetime\n",
    "import time\n",
    "#read in data\n",
    "fdny_df = pd.read_csv('/Users/madisonvolpe/documents/Projects/FDNY_ResponseTimes/RawData/FDNY_Monthly_Response_Times.csv') \n"
   ]
  },
  {
   "cell_type": "code",
   "execution_count": 17,
   "metadata": {},
   "outputs": [
    {
     "data": {
      "text/html": [
       "<div>\n",
       "<style scoped>\n",
       "    .dataframe tbody tr th:only-of-type {\n",
       "        vertical-align: middle;\n",
       "    }\n",
       "\n",
       "    .dataframe tbody tr th {\n",
       "        vertical-align: top;\n",
       "    }\n",
       "\n",
       "    .dataframe thead th {\n",
       "        text-align: right;\n",
       "    }\n",
       "</style>\n",
       "<table border=\"1\" class=\"dataframe\">\n",
       "  <thead>\n",
       "    <tr style=\"text-align: right;\">\n",
       "      <th></th>\n",
       "      <th>YEARMONTH</th>\n",
       "      <th>INCIDENTCLASSIFICATION</th>\n",
       "      <th>INCIDENTBOROUGH</th>\n",
       "      <th>INCIDENTCOUNT</th>\n",
       "      <th>AVERAGERESPONSETIME</th>\n",
       "    </tr>\n",
       "  </thead>\n",
       "  <tbody>\n",
       "    <tr>\n",
       "      <th>0</th>\n",
       "      <td>2009/07</td>\n",
       "      <td>All Fire/Emergency Incidents</td>\n",
       "      <td>Citywide</td>\n",
       "      <td>40850</td>\n",
       "      <td>04:27</td>\n",
       "    </tr>\n",
       "    <tr>\n",
       "      <th>1</th>\n",
       "      <td>2009/07</td>\n",
       "      <td>All Fire/Emergency Incidents</td>\n",
       "      <td>Manhattan</td>\n",
       "      <td>10709</td>\n",
       "      <td>04:32</td>\n",
       "    </tr>\n",
       "    <tr>\n",
       "      <th>2</th>\n",
       "      <td>2009/07</td>\n",
       "      <td>All Fire/Emergency Incidents</td>\n",
       "      <td>Bronx</td>\n",
       "      <td>8137</td>\n",
       "      <td>04:37</td>\n",
       "    </tr>\n",
       "    <tr>\n",
       "      <th>3</th>\n",
       "      <td>2009/07</td>\n",
       "      <td>All Fire/Emergency Incidents</td>\n",
       "      <td>Staten Island</td>\n",
       "      <td>2205</td>\n",
       "      <td>04:45</td>\n",
       "    </tr>\n",
       "    <tr>\n",
       "      <th>4</th>\n",
       "      <td>2009/07</td>\n",
       "      <td>All Fire/Emergency Incidents</td>\n",
       "      <td>Brooklyn</td>\n",
       "      <td>11505</td>\n",
       "      <td>04:01</td>\n",
       "    </tr>\n",
       "  </tbody>\n",
       "</table>\n",
       "</div>"
      ],
      "text/plain": [
       "  YEARMONTH        INCIDENTCLASSIFICATION INCIDENTBOROUGH  INCIDENTCOUNT  \\\n",
       "0   2009/07  All Fire/Emergency Incidents        Citywide          40850   \n",
       "1   2009/07  All Fire/Emergency Incidents       Manhattan          10709   \n",
       "2   2009/07  All Fire/Emergency Incidents           Bronx           8137   \n",
       "3   2009/07  All Fire/Emergency Incidents   Staten Island           2205   \n",
       "4   2009/07  All Fire/Emergency Incidents        Brooklyn          11505   \n",
       "\n",
       "  AVERAGERESPONSETIME  \n",
       "0               04:27  \n",
       "1               04:32  \n",
       "2               04:37  \n",
       "3               04:45  \n",
       "4               04:01  "
      ]
     },
     "execution_count": 17,
     "metadata": {},
     "output_type": "execute_result"
    }
   ],
   "source": [
    "#inspect first five rows\n",
    "fdny_df.head()"
   ]
  },
  {
   "cell_type": "code",
   "execution_count": 18,
   "metadata": {},
   "outputs": [
    {
     "name": "stdout",
     "output_type": "stream",
     "text": [
      "<class 'pandas.core.frame.DataFrame'>\n",
      "RangeIndex: 4368 entries, 0 to 4367\n",
      "Data columns (total 5 columns):\n",
      "YEARMONTH                 4368 non-null object\n",
      "INCIDENTCLASSIFICATION    4368 non-null object\n",
      "INCIDENTBOROUGH           4368 non-null object\n",
      "INCIDENTCOUNT             4368 non-null int64\n",
      "AVERAGERESPONSETIME       4368 non-null object\n",
      "dtypes: int64(1), object(4)\n",
      "memory usage: 170.7+ KB\n"
     ]
    }
   ],
   "source": [
    "fdny_df.info() #inspecting data types of dataframe"
   ]
  },
  {
   "cell_type": "code",
   "execution_count": 19,
   "metadata": {},
   "outputs": [
    {
     "name": "stderr",
     "output_type": "stream",
     "text": [
      "/Users/madisonvolpe/anaconda3/lib/python3.6/site-packages/ipykernel_launcher.py:7: UserWarning: Boolean Series key will be reindexed to match DataFrame index.\n",
      "  import sys\n"
     ]
    }
   ],
   "source": [
    "#Now we will filter for those in YEARMONTH with FY distinction\n",
    "fiscalyear = fdny_df.YEARMONTH.str.contains('^FY')\n",
    "fdny_df_fil = fdny_df[fiscalyear]\n",
    "\n",
    "#We will also filter for \"All Fire/Emergency Incidents\"\n",
    "emer_inc = fdny_df.INCIDENTCLASSIFICATION.str.contains(\"All Fire/Emergency Incidents\")\n",
    "fdny_df_fil = fdny_df_fil[emer_inc]"
   ]
  },
  {
   "cell_type": "code",
   "execution_count": 20,
   "metadata": {},
   "outputs": [
    {
     "name": "stdout",
     "output_type": "stream",
     "text": [
      "['FY 2010' 'FY 2011' 'FY 2012' 'FY 2013' 'FY 2014' 'FY 2015' 'FY 2016'\n",
      " 'FY 2017']\n",
      "['All Fire/Emergency Incidents']\n"
     ]
    }
   ],
   "source": [
    "#check the unique valaues of YEARMONTH and INCIDENTCLASSIFICATION columns \n",
    "print(fdny_df_fil.YEARMONTH.unique())\n",
    "print(fdny_df_fil.INCIDENTCLASSIFICATION.unique())"
   ]
  },
  {
   "cell_type": "code",
   "execution_count": 21,
   "metadata": {},
   "outputs": [],
   "source": [
    "#add hours via strftime \n",
    "fdny_df_fil['AVERAGERESPONSETIME']=list(map(lambda x: datetime.datetime.strptime(x,'%M:%S').strftime('%H:%M:%S'),\\\n",
    "               fdny_df_fil['AVERAGERESPONSETIME']))"
   ]
  },
  {
   "cell_type": "code",
   "execution_count": 22,
   "metadata": {},
   "outputs": [
    {
     "data": {
      "text/plain": [
       "4032    00:04:33\n",
       "4033    00:04:38\n",
       "4034    00:04:44\n",
       "4035    00:04:54\n",
       "4036    00:04:04\n",
       "Name: AVERAGERESPONSETIME, dtype: object"
      ]
     },
     "execution_count": 22,
     "metadata": {},
     "output_type": "execute_result"
    }
   ],
   "source": [
    "fdny_df_fil.AVERAGERESPONSETIME.head()"
   ]
  },
  {
   "cell_type": "code",
   "execution_count": 23,
   "metadata": {},
   "outputs": [],
   "source": [
    "#convert to time \n",
    "fdny_df_fil['AVERAGERESPONSETIME']=list(map(lambda x: time.strptime(x,'%H:%M:%S'),\\\n",
    "               fdny_df_fil['AVERAGERESPONSETIME']))"
   ]
  },
  {
   "cell_type": "code",
   "execution_count": 27,
   "metadata": {},
   "outputs": [],
   "source": [
    "#make seconds columns \n",
    "fdny_df_fil['SECONDS'] = list(map(lambda x:datetime.timedelta\\\n",
    "                                  (hours=x.tm_hour,minutes=x.tm_min,seconds=x.tm_sec).total_seconds(),\\\n",
    "                                 fdny_df_fil['AVERAGERESPONSETIME']))"
   ]
  },
  {
   "cell_type": "code",
   "execution_count": 28,
   "metadata": {},
   "outputs": [
    {
     "data": {
      "text/plain": [
       "4032    273.0\n",
       "4033    278.0\n",
       "4034    284.0\n",
       "4035    294.0\n",
       "4036    244.0\n",
       "Name: SECONDS, dtype: float64"
      ]
     },
     "execution_count": 28,
     "metadata": {},
     "output_type": "execute_result"
    }
   ],
   "source": [
    "fdny_df_fil.SECONDS.head()"
   ]
  },
  {
   "cell_type": "code",
   "execution_count": 29,
   "metadata": {},
   "outputs": [
    {
     "data": {
      "text/html": [
       "<div>\n",
       "<style scoped>\n",
       "    .dataframe tbody tr th:only-of-type {\n",
       "        vertical-align: middle;\n",
       "    }\n",
       "\n",
       "    .dataframe tbody tr th {\n",
       "        vertical-align: top;\n",
       "    }\n",
       "\n",
       "    .dataframe thead th {\n",
       "        text-align: right;\n",
       "    }\n",
       "</style>\n",
       "<table border=\"1\" class=\"dataframe\">\n",
       "  <thead>\n",
       "    <tr style=\"text-align: right;\">\n",
       "      <th></th>\n",
       "      <th>INCIDENTCOUNT</th>\n",
       "      <th>SECONDS</th>\n",
       "    </tr>\n",
       "    <tr>\n",
       "      <th>INCIDENTBOROUGH</th>\n",
       "      <th></th>\n",
       "      <th></th>\n",
       "    </tr>\n",
       "  </thead>\n",
       "  <tbody>\n",
       "    <tr>\n",
       "      <th>Bronx</th>\n",
       "      <td>103761.375</td>\n",
       "      <td>297.500</td>\n",
       "    </tr>\n",
       "    <tr>\n",
       "      <th>Brooklyn</th>\n",
       "      <td>147640.000</td>\n",
       "      <td>255.250</td>\n",
       "    </tr>\n",
       "    <tr>\n",
       "      <th>Citywide</th>\n",
       "      <td>522734.250</td>\n",
       "      <td>284.750</td>\n",
       "    </tr>\n",
       "    <tr>\n",
       "      <th>Manhattan</th>\n",
       "      <td>139469.625</td>\n",
       "      <td>295.625</td>\n",
       "    </tr>\n",
       "    <tr>\n",
       "      <th>Queens</th>\n",
       "      <td>104814.375</td>\n",
       "      <td>298.125</td>\n",
       "    </tr>\n",
       "    <tr>\n",
       "      <th>Staten Island</th>\n",
       "      <td>27048.875</td>\n",
       "      <td>291.250</td>\n",
       "    </tr>\n",
       "  </tbody>\n",
       "</table>\n",
       "</div>"
      ],
      "text/plain": [
       "                 INCIDENTCOUNT  SECONDS\n",
       "INCIDENTBOROUGH                        \n",
       "Bronx               103761.375  297.500\n",
       "Brooklyn            147640.000  255.250\n",
       "Citywide            522734.250  284.750\n",
       "Manhattan           139469.625  295.625\n",
       "Queens              104814.375  298.125\n",
       "Staten Island        27048.875  291.250"
      ]
     },
     "execution_count": 29,
     "metadata": {},
     "output_type": "execute_result"
    }
   ],
   "source": [
    "#this is the average incident count and average response time in seconds from FY 2010 to FY 2017 by borough! \n",
    "fdny_df_fil.groupby('INCIDENTBOROUGH').agg({'INCIDENTCOUNT': 'mean', 'SECONDS': 'mean'})"
   ]
  }
 ],
 "metadata": {
  "kernelspec": {
   "display_name": "Python 3",
   "language": "python",
   "name": "python3"
  },
  "language_info": {
   "codemirror_mode": {
    "name": "ipython",
    "version": 3
   },
   "file_extension": ".py",
   "mimetype": "text/x-python",
   "name": "python",
   "nbconvert_exporter": "python",
   "pygments_lexer": "ipython3",
   "version": "3.6.5"
  }
 },
 "nbformat": 4,
 "nbformat_minor": 2
}
